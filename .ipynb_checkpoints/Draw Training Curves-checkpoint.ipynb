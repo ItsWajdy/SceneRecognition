{
 "cells": [
  {
   "cell_type": "code",
   "execution_count": 1,
   "metadata": {},
   "outputs": [],
   "source": [
    "import csv\n",
    "import numpy as np\n",
    "import matplotlib.pyplot as plt"
   ]
  },
  {
   "cell_type": "code",
   "execution_count": 2,
   "metadata": {},
   "outputs": [],
   "source": [
    "def get_values_from_csv(csv_file):\n",
    "    loss = []\n",
    "    acc = []\n",
    "    top_k_categorical_acc = []\n",
    "    val_loss = []\n",
    "    val_acc = []\n",
    "    val_top_k_categorical_acc = []\n",
    "    epochs = 0\n",
    "\n",
    "    with open(csv_file, newline='') as f:\n",
    "        reader = csv.DictReader(f)\n",
    "        for row in reader:\n",
    "            loss.append(row['loss'])\n",
    "            acc.append(row['acc'])\n",
    "            top_k_categorical_acc.append(row['top_k_categorical_accuracy'])\n",
    "            val_loss.append(row['val_loss'])\n",
    "            val_acc.append(row['val_acc'])\n",
    "            val_top_k_categorical_acc.append(row['val_top_k_categorical_accuracy'])\n",
    "            epochs += 1\n",
    "    \n",
    "    return epochs, loss, acc, top_k_categorical_acc, val_loss, val_acc, val_top_k_categorical_acc\n",
    "\n",
    "def plot_and_save_acc(acc, val_acc, model_name):\n",
    "    plt.plot([i for i in range(epochs)], np.float32(acc), color='blue', label='training score')\n",
    "    plt.plot([i for i in range(epochs)], np.float32(val_acc), color='red', label='validation score')\n",
    "    plt.title(model_name + '_acc')\n",
    "    plt.legend(loc='best')\n",
    "    plt.ylim(0, 1)\n",
    "    plt.xlabel('epoch')\n",
    "    plt.ylabel('score');\n",
    "    plt.savefig('plots/' + model_name + '_acc.jpg')\n",
    "    plt.clf()\n",
    "\n",
    "def plot_and_save_loss(loss, val_loss, model_name):\n",
    "    plt.plot([i for i in range(epochs)], np.float32(loss), color='blue', label='training score')\n",
    "    plt.plot([i for i in range(epochs)], np.float32(val_loss), color='red', label='validation score')\n",
    "    plt.title(model_name + '_loss')\n",
    "    plt.legend(loc='best')\n",
    "    plt.ylim(0, 5)\n",
    "    plt.xlabel('epoch')\n",
    "    plt.ylabel('loss');\n",
    "    plt.savefig('plots/' + model_name + '_loss.jpg')\n",
    "    plt.clf()"
   ]
  },
  {
   "cell_type": "code",
   "execution_count": 3,
   "metadata": {},
   "outputs": [
    {
     "data": {
      "text/plain": [
       "<Figure size 432x288 with 0 Axes>"
      ]
     },
     "metadata": {},
     "output_type": "display_data"
    }
   ],
   "source": [
    "csv_files = ['inceptionresnetv2_fine_tuning.csv', 'inceptionresnetv2_from_scratch.csv', 'resnet50_fine_tuning.csv',\n",
    "            'resnet50_from_scratch.csv', 'vgg16_from_scratch.csv', 'Inception_history_100classes.csv',\n",
    "            'InceptionV3_history_100classes_scratch.csv', 'ResNet50_history_100classes.csv']\n",
    "\n",
    "for file in csv_files:\n",
    "    epochs, loss, acc, _, val_loss, val_acc, _ = get_values_from_csv(file)\n",
    "    plot_and_save_acc(acc, val_acc, file[:-4])\n",
    "    plot_and_save_loss(loss, val_loss, file[:-4])"
   ]
  },
  {
   "cell_type": "code",
   "execution_count": null,
   "metadata": {},
   "outputs": [],
   "source": []
  }
 ],
 "metadata": {
  "kernelspec": {
   "display_name": "Python 3",
   "language": "python",
   "name": "python3"
  },
  "language_info": {
   "codemirror_mode": {
    "name": "ipython",
    "version": 3
   },
   "file_extension": ".py",
   "mimetype": "text/x-python",
   "name": "python",
   "nbconvert_exporter": "python",
   "pygments_lexer": "ipython3",
   "version": "3.6.4"
  }
 },
 "nbformat": 4,
 "nbformat_minor": 2
}
